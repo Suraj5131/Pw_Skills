{
 "cells": [
  {
   "cell_type": "code",
   "execution_count": null,
   "id": "a5bc4f78-5490-4839-a643-aa0d4530640a",
   "metadata": {},
   "outputs": [],
   "source": [
    "#The *args parameter allows a function to accept any number of positional arguments. It collects all the positional arguments into a tuple."
   ]
  },
  {
   "cell_type": "code",
   "execution_count": 1,
   "id": "77292457-9946-403b-a759-ed106793fab5",
   "metadata": {},
   "outputs": [],
   "source": [
    "def sum_numbers(*args):\n",
    "    total = 0\n",
    "    for num in args:\n",
    "        total += num\n",
    "    return total\n",
    "\n",
    "# Example usage:\n",
    "result = sum_numbers(1, 2, 3, 4, 5)"
   ]
  },
  {
   "cell_type": "code",
   "execution_count": 2,
   "id": "917ca30c-d758-4f50-bbe6-2955e6ff1ae1",
   "metadata": {},
   "outputs": [
    {
     "data": {
      "text/plain": [
       "15"
      ]
     },
     "execution_count": 2,
     "metadata": {},
     "output_type": "execute_result"
    }
   ],
   "source": [
    "result"
   ]
  },
  {
   "cell_type": "code",
   "execution_count": null,
   "id": "a47ae47e-2ee7-4588-b7b7-f93ba1eee963",
   "metadata": {},
   "outputs": [],
   "source": [
    "#**kwargs stands for \"keyword arguments\" and allows a function to accept any number of keyword arguments. It collects the keyword arguments into a dictionary.\n"
   ]
  },
  {
   "cell_type": "code",
   "execution_count": 3,
   "id": "eccce8f2-1b90-4bbf-9b83-aaba76a7ec10",
   "metadata": {},
   "outputs": [
    {
     "name": "stdout",
     "output_type": "stream",
     "text": [
      "name: John\n",
      "age: 25\n",
      "city: New York\n"
     ]
    }
   ],
   "source": [
    "def print_info(**kwargs):\n",
    "    for key, value in kwargs.items():\n",
    "        print(f\"{key}: {value}\")\n",
    "\n",
    "# Example usage:\n",
    "print_info(name=\"John\", age=25, city=\"New York\")\n"
   ]
  },
  {
   "cell_type": "code",
   "execution_count": null,
   "id": "e0f7f61c-01e1-4133-9b07-e4dbe5df3c77",
   "metadata": {},
   "outputs": [],
   "source": []
  }
 ],
 "metadata": {
  "kernelspec": {
   "display_name": "Python 3 (ipykernel)",
   "language": "python",
   "name": "python3"
  },
  "language_info": {
   "codemirror_mode": {
    "name": "ipython",
    "version": 3
   },
   "file_extension": ".py",
   "mimetype": "text/x-python",
   "name": "python",
   "nbconvert_exporter": "python",
   "pygments_lexer": "ipython3",
   "version": "3.10.8"
  }
 },
 "nbformat": 4,
 "nbformat_minor": 5
}
