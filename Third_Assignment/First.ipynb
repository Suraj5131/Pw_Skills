{
 "cells": [
  {
   "cell_type": "code",
   "execution_count": null,
   "id": "9871d457-b6c6-40aa-86d2-186070b79e8f",
   "metadata": {},
   "outputs": [],
   "source": [
    "#Def keyword is used to create functions"
   ]
  },
  {
   "cell_type": "code",
   "execution_count": 8,
   "id": "78b48c7d-da76-4904-8ca3-987c6c098b0d",
   "metadata": {},
   "outputs": [],
   "source": [
    "def abc():\n",
    "    odd_num=[]\n",
    "    for i in range(1,26):\n",
    "        if i%2 !=0:\n",
    "            odd_num.append(i)\n",
    "    return odd_num"
   ]
  },
  {
   "cell_type": "code",
   "execution_count": 13,
   "id": "a880e3c1-63f9-4a19-87c4-3e6654f131a7",
   "metadata": {},
   "outputs": [
    {
     "data": {
      "text/plain": [
       "[1, 3, 5, 7, 9, 11, 13, 15, 17, 19, 21, 23, 25]"
      ]
     },
     "execution_count": 13,
     "metadata": {},
     "output_type": "execute_result"
    }
   ],
   "source": [
    "abc()"
   ]
  },
  {
   "cell_type": "code",
   "execution_count": null,
   "id": "87cda60e-291c-44e4-a56a-c56dd34a23a5",
   "metadata": {},
   "outputs": [],
   "source": []
  }
 ],
 "metadata": {
  "kernelspec": {
   "display_name": "Python 3 (ipykernel)",
   "language": "python",
   "name": "python3"
  },
  "language_info": {
   "codemirror_mode": {
    "name": "ipython",
    "version": 3
   },
   "file_extension": ".py",
   "mimetype": "text/x-python",
   "name": "python",
   "nbconvert_exporter": "python",
   "pygments_lexer": "ipython3",
   "version": "3.10.8"
  }
 },
 "nbformat": 4,
 "nbformat_minor": 5
}
