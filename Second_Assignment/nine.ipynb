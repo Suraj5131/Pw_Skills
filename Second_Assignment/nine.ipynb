{
 "cells": [
  {
   "cell_type": "code",
   "execution_count": 1,
   "id": "ca1f8fcc-3a66-405f-b940-2360b047c812",
   "metadata": {},
   "outputs": [],
   "source": [
    "name=\"Suraj Lokhande\""
   ]
  },
  {
   "cell_type": "code",
   "execution_count": 2,
   "id": "a012ce47-75db-4ea9-802b-5ae76325ad83",
   "metadata": {},
   "outputs": [
    {
     "data": {
      "text/plain": [
       "'Suraj Lokhande'"
      ]
     },
     "execution_count": 2,
     "metadata": {},
     "output_type": "execute_result"
    }
   ],
   "source": [
    "name"
   ]
  },
  {
   "cell_type": "code",
   "execution_count": null,
   "id": "97ae45c5-562a-480a-8e48-f897cf7b5973",
   "metadata": {},
   "outputs": [],
   "source": []
  }
 ],
 "metadata": {
  "kernelspec": {
   "display_name": "Python 3 (ipykernel)",
   "language": "python",
   "name": "python3"
  },
  "language_info": {
   "codemirror_mode": {
    "name": "ipython",
    "version": 3
   },
   "file_extension": ".py",
   "mimetype": "text/x-python",
   "name": "python",
   "nbconvert_exporter": "python",
   "pygments_lexer": "ipython3",
   "version": "3.10.8"
  }
 },
 "nbformat": 4,
 "nbformat_minor": 5
}
