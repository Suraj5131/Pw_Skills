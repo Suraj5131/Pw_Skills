{
 "cells": [
  {
   "cell_type": "code",
   "execution_count": 2,
   "id": "33d6dffd-cc88-4d3e-aa3b-03251b2b9c4f",
   "metadata": {},
   "outputs": [],
   "source": [
    "#Single-line comments: To add a comment that spans a single line, you can use the # character. Anything written after the # symbol on the same line is considered a comment. Here's an example:\n",
    "\n",
    "# This is a single-line comment\n",
    "x = 5  # Assigning a value to the variable x\n",
    "\n",
    "\n"
   ]
  },
  {
   "cell_type": "code",
   "execution_count": 4,
   "id": "c9fb5b93-e0b5-4826-8c1d-c2e5e25add87",
   "metadata": {},
   "outputs": [],
   "source": [
    "#Multi-line comments (docstrings): Multi-line comments, also known as docstrings, are used to provide longer descriptions or documentation for functions, classes, or modules. They are enclosed within triple quotes (\"\"\"). Here's an example:\n",
    "\n",
    "\n",
    "\"\"\"\n",
    "This is a multi-line comment.\n",
    "It can span across multiple lines.\n",
    "\"\"\"\n",
    "\n",
    "def greet(name):\n",
    "    \"\"\"\n",
    "    This function greets the given name.\n",
    "    \"\"\"\n",
    "    print(\"Hello, \" + name)\n"
   ]
  },
  {
   "cell_type": "code",
   "execution_count": null,
   "id": "f5419b2e-4d12-4d81-8b84-476aa22ea48e",
   "metadata": {},
   "outputs": [],
   "source": []
  }
 ],
 "metadata": {
  "kernelspec": {
   "display_name": "Python 3 (ipykernel)",
   "language": "python",
   "name": "python3"
  },
  "language_info": {
   "codemirror_mode": {
    "name": "ipython",
    "version": 3
   },
   "file_extension": ".py",
   "mimetype": "text/x-python",
   "name": "python",
   "nbconvert_exporter": "python",
   "pygments_lexer": "ipython3",
   "version": "3.10.8"
  }
 },
 "nbformat": 4,
 "nbformat_minor": 5
}
