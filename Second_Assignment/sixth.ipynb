{
 "cells": [
  {
   "cell_type": "code",
   "execution_count": 2,
   "id": "8807eab0-b55b-4d7d-90c3-0379d4270a0c",
   "metadata": {},
   "outputs": [],
   "source": [
    "z1 = complex(2, 3)\n",
    "z2 = complex(4, -1)"
   ]
  },
  {
   "cell_type": "code",
   "execution_count": 3,
   "id": "693b6081-bede-4849-a27f-b77a416f0bd8",
   "metadata": {},
   "outputs": [
    {
     "data": {
      "text/plain": [
       "complex"
      ]
     },
     "execution_count": 3,
     "metadata": {},
     "output_type": "execute_result"
    }
   ],
   "source": [
    "type(z1)"
   ]
  },
  {
   "cell_type": "code",
   "execution_count": null,
   "id": "64da733c-8af3-447a-b04d-8d727bda3766",
   "metadata": {},
   "outputs": [],
   "source": []
  }
 ],
 "metadata": {
  "kernelspec": {
   "display_name": "Python 3 (ipykernel)",
   "language": "python",
   "name": "python3"
  },
  "language_info": {
   "codemirror_mode": {
    "name": "ipython",
    "version": 3
   },
   "file_extension": ".py",
   "mimetype": "text/x-python",
   "name": "python",
   "nbconvert_exporter": "python",
   "pygments_lexer": "ipython3",
   "version": "3.10.8"
  }
 },
 "nbformat": 4,
 "nbformat_minor": 5
}
