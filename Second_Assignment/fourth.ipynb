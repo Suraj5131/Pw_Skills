{
 "cells": [
  {
   "cell_type": "code",
   "execution_count": null,
   "id": "20808eed-5467-4963-906a-3c3e3a28a2ea",
   "metadata": {},
   "outputs": [],
   "source": [
    "In the text editor, write your Python code that you want to execute. For example, let's say you want to print \"Hello, World!\" to the console:\n",
    "\n",
    "Open the command line: Open the command line or terminal on your operating system.\n",
    "\n",
    "Navigate to the script's directory: Use the cd command to navigate to the directory where your Python script is located.\n",
    "\n",
    "python hello.py\n"
   ]
  }
 ],
 "metadata": {
  "kernelspec": {
   "display_name": "Python 3 (ipykernel)",
   "language": "python",
   "name": "python3"
  },
  "language_info": {
   "codemirror_mode": {
    "name": "ipython",
    "version": 3
   },
   "file_extension": ".py",
   "mimetype": "text/x-python",
   "name": "python",
   "nbconvert_exporter": "python",
   "pygments_lexer": "ipython3",
   "version": "3.10.8"
  }
 },
 "nbformat": 4,
 "nbformat_minor": 5
}
