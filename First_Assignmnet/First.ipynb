{
 "cells": [
  {
   "cell_type": "code",
   "execution_count": 10,
   "id": "61ddc660-8d9e-4cbf-b4af-a1a1df1b7111",
   "metadata": {},
   "outputs": [],
   "source": [
    "a_String=\"Suraj\""
   ]
  },
  {
   "cell_type": "code",
   "execution_count": 11,
   "id": "5f53507b-26e1-444f-aa01-7f06c91bf06b",
   "metadata": {},
   "outputs": [
    {
     "data": {
      "text/plain": [
       "'Suraj'"
      ]
     },
     "execution_count": 11,
     "metadata": {},
     "output_type": "execute_result"
    }
   ],
   "source": [
    "a_String"
   ]
  },
  {
   "cell_type": "code",
   "execution_count": 12,
   "id": "adf2f2ae-39c9-41ea-9e14-8a402ca66c41",
   "metadata": {},
   "outputs": [],
   "source": [
    "a_list=[\"Suraj\",\"Lokhande\",5,100,53.6]"
   ]
  },
  {
   "cell_type": "code",
   "execution_count": 13,
   "id": "41f91309-75ca-4c51-b30d-f635b372d4e0",
   "metadata": {},
   "outputs": [
    {
     "data": {
      "text/plain": [
       "['Suraj', 'Lokhande', 5, 100, 53.6]"
      ]
     },
     "execution_count": 13,
     "metadata": {},
     "output_type": "execute_result"
    }
   ],
   "source": [
    "a_list"
   ]
  },
  {
   "cell_type": "code",
   "execution_count": 14,
   "id": "9ac387eb-64e3-4631-ba61-950347023f9c",
   "metadata": {},
   "outputs": [],
   "source": [
    "a_float=15.04\n"
   ]
  },
  {
   "cell_type": "code",
   "execution_count": 15,
   "id": "6a7f245d-f280-49bb-8605-1aaf6f623c59",
   "metadata": {},
   "outputs": [
    {
     "data": {
      "text/plain": [
       "15.04"
      ]
     },
     "execution_count": 15,
     "metadata": {},
     "output_type": "execute_result"
    }
   ],
   "source": [
    "a_float"
   ]
  },
  {
   "cell_type": "code",
   "execution_count": 16,
   "id": "d70b36ee-18ac-4e2e-8d99-cec40900bb9a",
   "metadata": {},
   "outputs": [],
   "source": [
    "a_tuple=(5,4,2,99,10)"
   ]
  },
  {
   "cell_type": "code",
   "execution_count": 17,
   "id": "bdbb774c-aa23-4bc0-aab5-f737e8bbc7ff",
   "metadata": {},
   "outputs": [
    {
     "data": {
      "text/plain": [
       "(5, 4, 2, 99, 10)"
      ]
     },
     "execution_count": 17,
     "metadata": {},
     "output_type": "execute_result"
    }
   ],
   "source": [
    "a_tuple"
   ]
  },
  {
   "cell_type": "code",
   "execution_count": 18,
   "id": "6dca8c91-85a0-49f8-bdaa-13ea9c132cc3",
   "metadata": {},
   "outputs": [
    {
     "data": {
      "text/plain": [
       "tuple"
      ]
     },
     "execution_count": 18,
     "metadata": {},
     "output_type": "execute_result"
    }
   ],
   "source": []
  }
 ],
 "metadata": {
  "kernelspec": {
   "display_name": "Python 3 (ipykernel)",
   "language": "python",
   "name": "python3"
  },
  "language_info": {
   "codemirror_mode": {
    "name": "ipython",
    "version": 3
   },
   "file_extension": ".py",
   "mimetype": "text/x-python",
   "name": "python",
   "nbconvert_exporter": "python",
   "pygments_lexer": "ipython3",
   "version": "3.10.8"
  }
 },
 "nbformat": 4,
 "nbformat_minor": 5
}
