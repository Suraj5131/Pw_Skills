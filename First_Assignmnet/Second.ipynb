{
 "cells": [
  {
   "cell_type": "code",
   "execution_count": 1,
   "id": "2a5dd07b-d064-4128-b715-5f14cbe2d83e",
   "metadata": {},
   "outputs": [],
   "source": [
    "var1=\"\""
   ]
  },
  {
   "cell_type": "code",
   "execution_count": null,
   "id": "e6d32708-238f-48ca-841b-f6e809940f34",
   "metadata": {},
   "outputs": [],
   "source": []
  }
 ],
 "metadata": {
  "kernelspec": {
   "display_name": "Python 3 (ipykernel)",
   "language": "python",
   "name": "python3"
  },
  "language_info": {
   "codemirror_mode": {
    "name": "ipython",
    "version": 3
   },
   "file_extension": ".py",
   "mimetype": "text/x-python",
   "name": "python",
   "nbconvert_exporter": "python",
   "pygments_lexer": "ipython3",
   "version": "3.10.8"
  }
 },
 "nbformat": 4,
 "nbformat_minor": 5
}
