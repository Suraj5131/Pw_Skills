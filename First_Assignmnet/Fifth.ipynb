{
 "cells": [
  {
   "cell_type": "code",
   "execution_count": 30,
   "id": "9de1019a-1192-4aff-b7b9-771751236ba2",
   "metadata": {},
   "outputs": [
    {
     "name": "stdout",
     "output_type": "stream",
     "text": [
      "The number 5 can divide 2 times into 4.0\n"
     ]
    }
   ],
   "source": [
    "a = 100\n",
    "b = 5\n",
    "\n",
    "count = 0\n",
    "\n",
    "while a % b == 0:\n",
    "    a = a / b\n",
    "    count += 1\n",
    "print(\"The number\", b, \"can divide\", count, \"times into\", a)\n"
   ]
  },
  {
   "cell_type": "code",
   "execution_count": null,
   "id": "0b7f6131-8cc3-4d02-85c8-ac95e27b052a",
   "metadata": {},
   "outputs": [],
   "source": []
  }
 ],
 "metadata": {
  "kernelspec": {
   "display_name": "Python 3 (ipykernel)",
   "language": "python",
   "name": "python3"
  },
  "language_info": {
   "codemirror_mode": {
    "name": "ipython",
    "version": 3
   },
   "file_extension": ".py",
   "mimetype": "text/x-python",
   "name": "python",
   "nbconvert_exporter": "python",
   "pygments_lexer": "ipython3",
   "version": "3.10.8"
  }
 },
 "nbformat": 4,
 "nbformat_minor": 5
}
