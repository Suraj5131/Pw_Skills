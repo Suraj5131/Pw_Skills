{
 "cells": [
  {
   "cell_type": "code",
   "execution_count": 1,
   "id": "4d1d3ad2-c8ab-419a-b5a3-989cc630c92e",
   "metadata": {},
   "outputs": [
    {
     "name": "stdout",
     "output_type": "stream",
     "text": [
      "Suraj  & Data type is-  <class 'str'>\n",
      "False  & Data type is-  <class 'bool'>\n",
      "Lokhnade  & Data type is-  <class 'str'>\n",
      "5  & Data type is-  <class 'int'>\n",
      "6j  & Data type is-  <class 'complex'>\n",
      "6.55  & Data type is-  <class 'float'>\n",
      "True  & Data type is-  <class 'bool'>\n",
      "10j  & Data type is-  <class 'complex'>\n",
      "8  & Data type is-  <class 'int'>\n",
      "10.55  & Data type is-  <class 'float'>\n"
     ]
    }
   ],
   "source": [
    "a=[\"Suraj\",False,\"Lokhnade\",5,6j,6.55,True,10j,8,10.55]\n",
    "for i in a:\n",
    "    print(i,\" & Data type is- \",type(i))"
   ]
  },
  {
   "cell_type": "code",
   "execution_count": null,
   "id": "99717cb9-17a7-499d-9af0-41dbf83bb12e",
   "metadata": {},
   "outputs": [],
   "source": []
  }
 ],
 "metadata": {
  "kernelspec": {
   "display_name": "Python 3 (ipykernel)",
   "language": "python",
   "name": "python3"
  },
  "language_info": {
   "codemirror_mode": {
    "name": "ipython",
    "version": 3
   },
   "file_extension": ".py",
   "mimetype": "text/x-python",
   "name": "python",
   "nbconvert_exporter": "python",
   "pygments_lexer": "ipython3",
   "version": "3.10.8"
  }
 },
 "nbformat": 4,
 "nbformat_minor": 5
}
