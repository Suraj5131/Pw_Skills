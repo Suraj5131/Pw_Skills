{
 "cells": [
  {
   "cell_type": "code",
   "execution_count": 4,
   "id": "c8f5aa4a-4613-43e0-a1ca-6e16ce8189e6",
   "metadata": {},
   "outputs": [
    {
     "name": "stdout",
     "output_type": "stream",
     "text": [
      "2  is not divisible by 3\n",
      "5  is not divisible by 3\n",
      "9  is divisible by 3\n",
      "16  is not divisible by 3\n",
      "21  is divisible by 3\n",
      "23  is not divisible by 3\n",
      "25  is not divisible by 3\n",
      "27  is divisible by 3\n",
      "29  is not divisible by 3\n",
      "30  is divisible by 3\n",
      "35  is not divisible by 3\n",
      "39  is divisible by 3\n",
      "40  is not divisible by 3\n",
      "45  is divisible by 3\n",
      "47  is not divisible by 3\n",
      "50  is not divisible by 3\n",
      "52  is not divisible by 3\n",
      "55  is not divisible by 3\n",
      "69  is divisible by 3\n",
      "71  is not divisible by 3\n",
      "72  is divisible by 3\n",
      "78  is divisible by 3\n",
      "81  is divisible by 3\n",
      "83  is not divisible by 3\n",
      "85  is not divisible by 3\n"
     ]
    }
   ],
   "source": [
    "a=[2,5,9,16,21,23,25,27,29,30,35,39,40,45,47,50,52,55,69,71,72,78,81,83,85]\n",
    "for i in a:\n",
    "    if(i%3==0):\n",
    "        print(str(i),\" is divisible by 3\")\n",
    "    else:\n",
    "        print(str(i),\" is not divisible by 3\")"
   ]
  },
  {
   "cell_type": "code",
   "execution_count": null,
   "id": "c29bd33a-e70f-45b5-a25b-d44c52f3c4c1",
   "metadata": {},
   "outputs": [],
   "source": []
  }
 ],
 "metadata": {
  "kernelspec": {
   "display_name": "Python 3 (ipykernel)",
   "language": "python",
   "name": "python3"
  },
  "language_info": {
   "codemirror_mode": {
    "name": "ipython",
    "version": 3
   },
   "file_extension": ".py",
   "mimetype": "text/x-python",
   "name": "python",
   "nbconvert_exporter": "python",
   "pygments_lexer": "ipython3",
   "version": "3.10.8"
  }
 },
 "nbformat": 4,
 "nbformat_minor": 5
}
