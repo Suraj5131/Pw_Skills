{
 "cells": [
  {
   "cell_type": "code",
   "execution_count": null,
   "id": "9b5ad31a-a425-4921-b7d4-51ed9e53de03",
   "metadata": {},
   "outputs": [],
   "source": [
    "#Immutable\n",
    "Immutable data types are those whose values cannot be modified once they are created. Any operation on an immutable data type will return a new value rather than modifying the original one. Examples of immutable data types include integers, floats, booleans, strings, and tuples."
   ]
  },
  {
   "cell_type": "code",
   "execution_count": 4,
   "id": "12a6cb1f-8597-48a5-83ea-f8ef00fe01d7",
   "metadata": {},
   "outputs": [
    {
     "name": "stdout",
     "output_type": "stream",
     "text": [
      "Original String: Hello\n",
      "New String: HELLO\n"
     ]
    }
   ],
   "source": [
    "string_example = \"Hello\"\n",
    "new_string = string_example.upper()\n",
    "\n",
    "print(\"Original String:\", string_example)\n",
    "print(\"New String:\", new_string)\n"
   ]
  },
  {
   "cell_type": "code",
   "execution_count": null,
   "id": "e083ab09-80e0-48b6-aa57-c31b0d6a3651",
   "metadata": {},
   "outputs": [],
   "source": [
    "#Mutable\n",
    "Mutable data types,are those whose values can be modified after they are created. Operations on mutable data types can directly modify their values without creating a new object. Examples of mutable data types include lists, dictionaries, and sets."
   ]
  },
  {
   "cell_type": "code",
   "execution_count": 5,
   "id": "25ce374f-8314-4f7d-b4be-b32746d650d9",
   "metadata": {},
   "outputs": [
    {
     "name": "stdout",
     "output_type": "stream",
     "text": [
      "Original List: [1, 2, 3, 4]\n"
     ]
    }
   ],
   "source": [
    "list_example = [1, 2, 3]\n",
    "print(\"Original List:\", list_example)\n",
    "list_example[1]=5\n",
    "print(\"Modifying List:\", list_example)"
   ]
  },
  {
   "cell_type": "code",
   "execution_count": null,
   "id": "5a600279-3009-471a-bb93-6a59ca4f800b",
   "metadata": {},
   "outputs": [],
   "source": []
  }
 ],
 "metadata": {
  "kernelspec": {
   "display_name": "Python 3 (ipykernel)",
   "language": "python",
   "name": "python3"
  },
  "language_info": {
   "codemirror_mode": {
    "name": "ipython",
    "version": 3
   },
   "file_extension": ".py",
   "mimetype": "text/x-python",
   "name": "python",
   "nbconvert_exporter": "python",
   "pygments_lexer": "ipython3",
   "version": "3.10.8"
  }
 },
 "nbformat": 4,
 "nbformat_minor": 5
}
